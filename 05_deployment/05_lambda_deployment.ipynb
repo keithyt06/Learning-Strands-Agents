{
 "cells": [
  {
   "cell_type": "markdown",
   "metadata": {},
   "source": [
    "# Chapter 5: Deploying Strands Agents to Production\n",
    "\n",
    "## Introduction to Deployment\n",
    "\n",
    "After developing your Strands Agents locally, the next step is deploying them to production. In this chapter, we'll focus on AWS Lambda, which provides an excellent serverless platform for running AI agents.\n",
    "\n",
    "We'll cover:\n",
    "- Advantages of AWS Lambda for Strands Agents\n",
    "- Preparing your agent for deployment\n",
    "- Setting up API Gateway for web access\n",
    "- Monitoring and scaling considerations\n",
    "\n",
    "Throughout this chapter, we'll use the Nova Lite model (`us.amazon.nova-lite-v1:0`) as specified for our course."
   ]
  },
  {
   "cell_type": "markdown",
   "metadata": {},
   "source": [
    "## Why AWS Lambda for Strands Agents?\n",
    "\n",
    "AWS Lambda offers several advantages for deploying Strands Agents:\n",
    "\n",
    "1. **Serverless Architecture**: No server management required\n",
    "2. **Pay-per-use Pricing**: Only pay for actual computation time\n",
    "3. **Automatic Scaling**: Handles varying loads effortlessly\n",
    "4. **AWS Integration**: Seamless integration with other AWS services\n",
    "5. **Python Support**: Native support for Python-based applications\n",
    "\n",
    "These benefits make Lambda ideal for deploying AI agents with variable usage patterns."
   ]
  },
  {
   "cell_type": "markdown",
   "metadata": {},
   "source": [
    "## Preparing Your Agent for Lambda\n",
    "\n",
    "Let's create a simple weather agent that we'll prepare for deployment:"
   ]
  },
  {
   "cell_type": "code",
   "execution_count": null,
   "metadata": {},
   "outputs": [],
   "source": [
    "from strands import Agent, tool\n",
    "\n",
    "@tool\n",
    "def weather_info(location: str) -> str:\n",
    "    \"\"\"\n",
    "    Get weather information for a location.\n",
    "    \n",
    "    Args:\n",
    "        location (str): City or location name\n",
    "        \n",
    "    Returns:\n",
    "        str: Weather information for the location\n",
    "    \"\"\"\n",
    "    # Mock data for demonstration\n",
    "    weather_data = {\n",
    "        \"new york\": \"72°F, Partly Cloudy\",\n",
    "        \"london\": \"64°F, Rainy\",\n",
    "        \"tokyo\": \"79°F, Sunny\"\n",
    "    }\n",
    "    \n",
    "    return weather_data.get(location.lower(), \"Weather information not available\")\n",
    "\n",
    "# Create the agent\n",
    "agent = Agent(\n",
    "    model=\"us.amazon.nova-lite-v1:0\",\n",
    "    tools=[weather_info],\n",
    "    system_prompt=\"You are a helpful weather assistant.\"\n",
    ")\n",
    "\n",
    "# Test locally\n",
    "response = agent(\"What's the weather like in Tokyo?\")"
   ]
  },
  {
   "cell_type": "markdown",
   "metadata": {},
   "source": [
    "Now let's structure our code for Lambda deployment by creating a Lambda handler function:"
   ]
  },
  {
   "cell_type": "code",
   "execution_count": null,
   "metadata": {},
   "outputs": [],
   "source": [
    "%%writefile lambda_function.py\n",
    "import json\n",
    "from strands import Agent, tool\n",
    "\n",
    "@tool\n",
    "def weather_info(location: str) -> str:\n",
    "    \"\"\"\n",
    "    Get weather information for a location.\n",
    "    \n",
    "    Args:\n",
    "        location (str): City or location name\n",
    "        \n",
    "    Returns:\n",
    "        str: Weather information for the location\n",
    "    \"\"\"\n",
    "    # Mock data for demonstration\n",
    "    weather_data = {\n",
    "        \"new york\": \"72°F, Partly Cloudy\",\n",
    "        \"london\": \"64°F, Rainy\",\n",
    "        \"tokyo\": \"79°F, Sunny\"\n",
    "    }\n",
    "    \n",
    "    return weather_data.get(location.lower(), \"Weather information not available\")\n",
    "\n",
    "# Create the agent outside the handler to benefit from container reuse\n",
    "agent = Agent(\n",
    "    model=\"us.amazon.nova-lite-v1:0\",\n",
    "    tools=[weather_info],\n",
    "    system_prompt=\"You are a helpful weather assistant.\"\n",
    ")\n",
    "\n",
    "def lambda_handler(event, context):\n",
    "    \"\"\"\n",
    "    AWS Lambda handler function\n",
    "    \"\"\"\n",
    "    try:\n",
    "        # Extract the user message\n",
    "        body = json.loads(event.get('body', '{}'))\n",
    "        user_message = body.get('message', '')\n",
    "        \n",
    "        if not user_message:\n",
    "            return {\n",
    "                'statusCode': 400,\n",
    "                'body': json.dumps({'error': 'No message provided'})\n",
    "            }\n",
    "        \n",
    "        # Process with our agent\n",
    "        response = agent(user_message)\n",
    "        \n",
    "        return {\n",
    "            'statusCode': 200,\n",
    "            'body': json.dumps({'message': response.message})\n",
    "        }\n",
    "        \n",
    "    except Exception as e:\n",
    "        # Log the error\n",
    "        print(f\"Error: {str(e)}\")\n",
    "        \n",
    "        return {\n",
    "            'statusCode': 500,\n",
    "            'body': json.dumps({'error': 'Internal server error'})\n",
    "        }"
   ]
  },
  {
   "cell_type": "markdown",
   "metadata": {},
   "source": [
    "## IAM Permissions for Bedrock\n",
    "\n",
    "To use Amazon Bedrock models in Lambda, you need to set up appropriate IAM permissions. Here's an example IAM policy:"
   ]
  },
  {
   "cell_type": "code",
   "execution_count": null,
   "metadata": {},
   "outputs": [],
   "source": [
    "%%writefile trust-policy.json\n",
    "{\n",
    "  \"Version\": \"2012-10-17\",\n",
    "  \"Statement\": [\n",
    "    {\n",
    "      \"Effect\": \"Allow\",\n",
    "      \"Principal\": {\n",
    "        \"Service\": \"lambda.amazonaws.com\"\n",
    "      },\n",
    "      \"Action\": \"sts:AssumeRole\"\n",
    "    }\n",
    "  ]\n",
    "}"
   ]
  },
  {
   "cell_type": "code",
   "execution_count": null,
   "metadata": {},
   "outputs": [],
   "source": [
    "%%writefile bedrock-policy.json\n",
    "{\n",
    "    \"Version\": \"2012-10-17\",\n",
    "    \"Statement\": [\n",
    "        {\n",
    "            \"Effect\": \"Allow\",\n",
    "            \"Action\": [\"bedrock:InvokeModel\", \"bedrock:InvokeModelWithResponseStream\"],\n",
    "            \"Resource\": [\"arn:aws:bedrock:*:*:foundation-model/amazon.nova-lite-v1:0\", \"arn:aws:bedrock:us-east-1:350393882861:inference-profile/us.amazon.nova-lite-v1:0\"]\n",
    "        },\n",
    "        {\n",
    "            \"Effect\": \"Allow\",\n",
    "            \"Action\": [\n",
    "                \"logs:CreateLogGroup\",\n",
    "                \"logs:CreateLogStream\",\n",
    "                \"logs:PutLogEvents\"\n",
    "            ],\n",
    "            \"Resource\": \"arn:aws:logs:*:*:*\"\n",
    "        }\n",
    "    ]\n",
    "}"
   ]
  },
  {
   "cell_type": "code",
   "execution_count": null,
   "metadata": {},
   "outputs": [],
   "source": [
    "%%writefile iam_role_policy.json\n",
    "# Get account id\n",
    "ACCOUNT_ID=$(aws sts get-caller-identity --query Account --output text)\n",
    "\n",
    "# Create IAM role\n",
    "aws iam create-role \\\n",
    "  --role-name strands-agents-lambda-bedrock-role \\\n",
    "  --assume-role-policy-document file://trust-policy.json\n",
    "\n",
    "# Create IAM policy\n",
    "aws iam create-policy \\\n",
    "  --policy-name strands-agents-lambda-bedrock-policy \\\n",
    "  --policy-document file://bedrock-policy.json\n",
    "\n",
    "# Attach IAM policy\n",
    "aws iam attach-role-policy \\\n",
    "  --role-name strands-agents-lambda-bedrock-role \\\n",
    "  --policy-arn arn:aws:iam::${ACCOUNT_ID}:policy/strands-agents-lambda-bedrock-policy"
   ]
  },
  {
   "cell_type": "code",
   "execution_count": null,
   "metadata": {},
   "outputs": [],
   "source": [
    "!sh iam_role_policy.json"
   ]
  },
  {
   "cell_type": "markdown",
   "metadata": {},
   "source": [
    "## Creating a Deployment Package\n",
    "\n",
    "For Lambda, you need to package your code and dependencies into a ZIP file. Here's a script to create the deployment package:"
   ]
  },
  {
   "cell_type": "code",
   "execution_count": null,
   "metadata": {},
   "outputs": [],
   "source": [
    "!sudo yum install zip -y\n",
    "!sudo apt install zip -y"
   ]
  },
  {
   "cell_type": "code",
   "execution_count": null,
   "metadata": {},
   "outputs": [],
   "source": [
    "%%writefile create_package.sh\n",
    "#!/bin/bash\n",
    "\n",
    "# Create a temporary directory\n",
    "mkdir -p package\n",
    "cp lambda_function.py package/\n",
    "\n",
    "# Create a virtual environment and install dependencies\n",
    "python -m venv venv\n",
    ". venv/bin/activate\n",
    "pip install strands-agents -t package/\n",
    "\n",
    "# Create the ZIP file\n",
    "cd package\n",
    "zip -r ../deployment.zip .\n",
    "cd ..\n",
    "\n",
    "# Clean up\n",
    "rm -rf package venv\n",
    "echo \"Deployment package created: deployment.zip\""
   ]
  },
  {
   "cell_type": "code",
   "execution_count": null,
   "metadata": {},
   "outputs": [],
   "source": [
    "!sh create_package.sh"
   ]
  },
  {
   "cell_type": "markdown",
   "metadata": {},
   "source": [
    "## Deploying to AWS Lambda\n",
    "\n",
    "Here's how to deploy your function using the AWS CLI:"
   ]
  },
  {
   "cell_type": "code",
   "execution_count": null,
   "metadata": {
    "scrolled": true
   },
   "outputs": [],
   "source": [
    "%%writefile deploy.sh\n",
    "#!/bin/bash\n",
    "\n",
    "# Configuration\n",
    "ACCOUNT_ID=$(aws sts get-caller-identity --query Account --output text)\n",
    "FUNCTION_NAME=\"strands_agents_lambda\"\n",
    "ROLE_ARN=\"arn:aws:iam::${ACCOUNT_ID}:role/strands-agents-lambda-bedrock-role\"  # Replace with your role ARN\n",
    "REGION=\"us-east-1\"\n",
    "\n",
    "# Create the Lambda function\n",
    "aws lambda create-function \\\n",
    "    --function-name $FUNCTION_NAME \\\n",
    "    --runtime python3.12 \\\n",
    "    --handler lambda_function.lambda_handler \\\n",
    "    --timeout 30 \\\n",
    "    --memory-size 512 \\\n",
    "    --role $ROLE_ARN \\\n",
    "    --zip-file fileb://deployment.zip \\\n",
    "    --region $REGION"
   ]
  },
  {
   "cell_type": "code",
   "execution_count": null,
   "metadata": {},
   "outputs": [],
   "source": [
    "!sh deploy.sh"
   ]
  },
  {
   "cell_type": "markdown",
   "metadata": {},
   "source": [
    "## Testing the Deployed Agent\n",
    "\n",
    "Once deployed, you can test your agent by sending requests:"
   ]
  },
  {
   "cell_type": "code",
   "execution_count": null,
   "metadata": {},
   "outputs": [],
   "source": [
    "import boto3\n",
    "import json\n",
    "\n",
    "def invoke_weather_agent(location_query):\n",
    "    \"\"\"\n",
    "    Invokes the strands_agents_lambda with a weather query\n",
    "    \n",
    "    Args:\n",
    "        location_query (str): The weather query (e.g. \"What's the weather in Tokyo?\")\n",
    "    \n",
    "    Returns:\n",
    "        dict: The response from the Lambda function\n",
    "    \"\"\"\n",
    "    # Create Lambda client\n",
    "    lambda_client = boto3.client('lambda', region_name='us-east-1')\n",
    "\n",
    "    try:\n",
    "        # Invoke the Lambda function\n",
    "        response = lambda_client.invoke(\n",
    "            FunctionName='strands_agents_lambda',\n",
    "            InvocationType='RequestResponse',  # Synchronous call\n",
    "            Payload=json.dumps({\n",
    "                'body': json.dumps({\n",
    "                    'message': location_query\n",
    "                })\n",
    "            })\n",
    "        )\n",
    "        \n",
    "        # Parse the response\n",
    "        payload = json.loads(response['Payload'].read().decode('utf-8'))\n",
    "        return {\n",
    "            'status_code': response['StatusCode'],\n",
    "            'response': json.loads(payload.get('body', '{}'))\n",
    "        }\n",
    "        \n",
    "    except Exception as e:\n",
    "        print(f\"Error invoking Lambda: {str(e)}\")\n",
    "        return {\n",
    "            'status_code': 500,\n",
    "            'error': str(e)\n",
    "        }\n",
    "\n",
    "# Example usage\n",
    "if __name__ == \"__main__\":\n",
    "    result = invoke_weather_agent(\"What's the weather like in Tokyo?\")\n",
    "    print(\"Lambda Response:\\n\\n\", result['response']['message']['content'][0]['text'])"
   ]
  },
  {
   "cell_type": "markdown",
   "metadata": {},
   "source": [
    "## Advanced Deployment Options\n",
    "\n",
    "For production deployments, consider these advanced options:\n",
    "\n",
    "### 1. API Gateway\n",
    "Setting up API Gateway to expose your agent via HTTP.\n",
    "\n",
    "### 2. AWS CDK\n",
    "\n",
    "The [AWS Cloud Development Kit (CDK)](https://aws.amazon.com/cdk/) allows you to define infrastructure using Python code.\n",
    "\n",
    "### 3. Serverless Framework\n",
    "\n",
    "The [Serverless Framework](https://www.serverless.com/) simplifies deploying Lambda functions and related resources:\n",
    "\n",
    "### 4. Lambda Layers\n",
    "\n",
    "For large dependencies, you can use [Lambda Layers](https://docs.aws.amazon.com/lambda/latest/dg/configuration-layers.html) to separate dependencies from your function code."
   ]
  },
  {
   "cell_type": "markdown",
   "metadata": {},
   "source": [
    "## Monitoring and Scaling\n",
    "\n",
    "### CloudWatch Metrics and Logs\n",
    "\n",
    "AWS Lambda automatically sends metrics to CloudWatch, including invocation count, duration, and errors. Set up CloudWatch Alarms to alert you of potential issues.\n",
    "\n",
    "### Lambda Concurrency\n",
    "\n",
    "Lambda automatically scales based on the number of incoming requests. For predictable scaling:\n",
    "- **Reserved Concurrency**: Guarantees a certain number of concurrent executions\n",
    "- **Provisioned Concurrency**: Keeps functions initialized for immediate response\n",
    "\n",
    "### Cold Starts\n",
    "\n",
    "The first invocation of a Lambda function (or after scaling) may experience a \"cold start\" delay. To mitigate this:\n",
    "- Use Provisioned Concurrency\n",
    "- Keep function size small\n",
    "- Use warm-up pings for critical functions\n",
    "\n",
    "### Cost Optimization\n",
    "\n",
    "Lambda charges based on:\n",
    "- Number of requests\n",
    "- Duration × memory allocation\n",
    "\n",
    "Optimize by:\n",
    "- Tuning memory allocation\n",
    "- Minimizing function duration\n",
    "- Using CloudWatch Logs Insights to identify inefficient functions"
   ]
  },
  {
   "cell_type": "markdown",
   "metadata": {},
   "source": [
    "## Summary\n",
    "\n",
    "In this chapter, we've covered:\n",
    "\n",
    "1. Why AWS Lambda is well-suited for deploying Strands Agents\n",
    "2. How to structure your agent code for Lambda deployment\n",
    "3. Creating a deployment package with all dependencies\n",
    "4. Advanced deployment options like Serverless Framework and AWS CDK\n",
    "5. Monitoring and scaling considerations for production deployments\n",
    "\n",
    "With these tools and techniques, you can deploy Strands Agents to a production environment that is scalable, cost-effective, and easy to maintain.\n",
    "\n",
    "In the next chapter, we'll explore advanced patterns for multi-agent systems that can work together to solve complex problems."
   ]
  },
  {
   "cell_type": "markdown",
   "metadata": {},
   "source": [
    "## Exercises\n",
    "\n",
    "1. Modify the example agent to use a different Strands tool and deploy it to Lambda\n",
    "2. Implement a basic authentication mechanism for your API Gateway endpoint\n",
    "3. Set up CloudWatch Alarms to monitor your deployed agent\n",
    "4. Create a Lambda Layer for the Strands dependencies\n",
    "5. Implement a WebSocket-based solution for streaming agent responses"
   ]
  }
 ],
 "metadata": {
  "kernelspec": {
   "display_name": "Python 3 (ipykernel)",
   "language": "python",
   "name": "python3"
  },
  "language_info": {
   "codemirror_mode": {
    "name": "ipython",
    "version": 3
   },
   "file_extension": ".py",
   "mimetype": "text/x-python",
   "name": "python",
   "nbconvert_exporter": "python",
   "pygments_lexer": "ipython3",
   "version": "3.12.10"
  }
 },
 "nbformat": 4,
 "nbformat_minor": 4
}
