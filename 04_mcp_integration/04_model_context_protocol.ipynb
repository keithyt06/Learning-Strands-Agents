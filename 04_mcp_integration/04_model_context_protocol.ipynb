{
 "cells": [
  {
   "cell_type": "markdown",
   "metadata": {},
   "source": [
    "# Chapter 4: MCP Integration with Strands Agents\n",
    "\n",
    "## Introduction to Model Context Protocol (MCP)\n",
    "\n",
    "One of the most powerful features of Strands Agents is its ability to integrate with the Model Context Protocol (MCP). This integration allows your agents to access a wide range of external tools and resources, significantly expanding their capabilities beyond what's available in the standard toolset.\n",
    "\n",
    "<img src=\"mcp.png\" width=\"750\" alt=\"mcp\">\n",
    "\n",
    "Throughout this chapter, we'll use the Nova Lite model (`us.amazon.nova-lite-v1:0`) as specified for our course."
   ]
  },
  {
   "cell_type": "markdown",
   "metadata": {},
   "source": [
    "## What is the Model Context Protocol?\n",
    "\n",
    "The Model Context Protocol (MCP) is a standardized way for AI models to interact with external tools and resources. It defines a common interface for exposing functionality to AI systems, allowing for seamless integration between different platforms and services.\n",
    "\n",
    "Key features of MCP include:\n",
    "\n",
    "1. **Standardized Communication:** MCP provides a common language for AI models and tools to communicate\n",
    "2. **Tool Discovery:** MCP servers can expose multiple tools, and clients can discover available tools\n",
    "3. **Resource Access:** Beyond tools (functions), MCP also supports accessing resources like files, databases, or APIs\n",
    "4. **Transport Independence:** MCP works over various [transport mechanisms](https://modelcontextprotocol.io/specification/2025-03-26/basic/transports) (Streamable HTTP, stdio, etc.)\n",
    "5. **Cross-Platform Compatibility:** Tools from one platform can be used by agents on different platforms"
   ]
  },
  {
   "cell_type": "markdown",
   "metadata": {},
   "source": [
    "## Setup and Prerequisites\n",
    "\n",
    "Let's start by installing the necessary packages for MCP integration:"
   ]
  },
  {
   "cell_type": "code",
   "execution_count": null,
   "metadata": {},
   "outputs": [],
   "source": [
    "# Install strands-agents and strands-agents-tools if you haven't already\n",
    "!pip install -U strands-agents strands-agents-tools\n",
    "\n",
    "# Install mcp for MCP client/server implementation\n",
    "!pip install -U mcp"
   ]
  },
  {
   "cell_type": "markdown",
   "metadata": {},
   "source": [
    "## Connecting to MCP Servers\n",
    "\n",
    "Strands Agents can connect to MCP servers using the `MCPClient` class from the `strands.tools.mcp` module. The most common approach is to use the Standard I/O (stdio) transport mechanism:"
   ]
  },
  {
   "cell_type": "code",
   "execution_count": null,
   "metadata": {},
   "outputs": [],
   "source": [
    "from mcp import stdio_client, StdioServerParameters\n",
    "from strands import Agent\n",
    "from strands.tools.mcp import MCPClient\n",
    "\n",
    "# Connect to an MCP server using stdio transport\n",
    "stdio_mcp_client = MCPClient(lambda: stdio_client(\n",
    "    StdioServerParameters(command=\"uvx\", args=[\"awslabs.aws-documentation-mcp-server@latest\"])\n",
    "))\n",
    "\n",
    "# The with statement ensures the client is properly initialized and later cleaned up\n",
    "with stdio_mcp_client:\n",
    "    # Get the tools from the MCP server\n",
    "    mcp_tools = stdio_mcp_client.list_tools_sync()\n",
    "    \n",
    "    # Print the available tools for inspection\n",
    "    for tool in mcp_tools:\n",
    "        print(f\"Tool: {tool.tool_name}\")\n",
    "        print(f\"Description: {tool.tool_spec}\")\n",
    "        print(\"\\n\")"
   ]
  },
  {
   "cell_type": "code",
   "execution_count": null,
   "metadata": {},
   "outputs": [],
   "source": [
    "# Another option using MCP - Start MCP server without 'with'\n",
    "stdio_mcp_client.start()\n",
    "\n",
    "# Get the tools from the MCP server\n",
    "mcp_tools = stdio_mcp_client.list_tools_sync()\n",
    "\n",
    "# Print the available tools for inspection\n",
    "for tool in mcp_tools:\n",
    "    print(f\"Tool: {tool.tool_name}\")\n",
    "    print(f\"Description: {tool.tool_spec}\")\n",
    "    print(\"\\n\")\n",
    "\n",
    "# Stop MCP server\n",
    "stdio_mcp_client.stop()"
   ]
  },
  {
   "cell_type": "markdown",
   "metadata": {},
   "source": [
    "## Using MCP Tools in Agents\n",
    "\n",
    "Once we have connected to an MCP server and obtained its tools, we can create an agent that uses these tools:"
   ]
  },
  {
   "cell_type": "code",
   "execution_count": null,
   "metadata": {},
   "outputs": [],
   "source": [
    "# Create an agent with MCP tools\n",
    "with stdio_mcp_client:\n",
    "    # Get the tools from the MCP server\n",
    "    mcp_tools = stdio_mcp_client.list_tools_sync()\n",
    "    \n",
    "    # Create an agent with these tools\n",
    "    aws_docs_agent = Agent(\n",
    "        model=\"us.amazon.nova-pro-v1:0\",\n",
    "        tools=mcp_tools,\n",
    "        system_prompt=\"You are a helpful assistant that specializes in AWS documentation.\"\n",
    "    )\n",
    "    \n",
    "    # Ask the agent a question that will make use of the MCP tools\n",
    "    response = aws_docs_agent(\"\"\"\n",
    "    Can you explain how to set up an Amazon S3 bucket with versioning enabled? \n",
    "    Please provide detailed steps based on the official AWS documentation.\n",
    "    \"\"\")"
   ]
  },
  {
   "cell_type": "markdown",
   "metadata": {},
   "source": [
    "## Combining MCP Tools with Built-in and Custom Tools\n",
    "\n",
    "One of the great advantages of Strands Agents is the ability to combine different types of tools:"
   ]
  },
  {
   "cell_type": "code",
   "execution_count": null,
   "metadata": {},
   "outputs": [],
   "source": [
    "from strands import tool\n",
    "from strands_tools import calculator, python_repl\n",
    "\n",
    "@tool\n",
    "def note_taker(note: str) -> str:\n",
    "    \"\"\"\n",
    "    Save a note to the notes collection.\n",
    "    \n",
    "    Args:\n",
    "        note (str): The content of the note to save\n",
    "        \n",
    "    Returns:\n",
    "        str: Confirmation message with timestamp\n",
    "    \"\"\"\n",
    "    import datetime\n",
    "    timestamp = datetime.datetime.now().strftime(\"%Y-%m-%d %H:%M:%S\")\n",
    "    return f\"Note saved at {timestamp}: {note}\"\n",
    "\n",
    "# Create an agent with a mix of tool types\n",
    "with stdio_mcp_client:\n",
    "    # Get the MCP tools\n",
    "    mcp_tools = stdio_mcp_client.list_tools_sync()\n",
    "    \n",
    "    # Create an agent with mixed tools\n",
    "    hybrid_agent = Agent(\n",
    "        model=\"us.amazon.nova-pro-v1:0\",\n",
    "        tools=[\n",
    "            *mcp_tools,         # MCP tools\n",
    "            calculator,         # Built-in tool\n",
    "            python_repl,        # Built-in tool\n",
    "            note_taker          # Custom tool\n",
    "        ],\n",
    "        system_prompt=\"You are a versatile assistant that can search documentation, perform calculations, and take notes.\"\n",
    "    )"
   ]
  },
  {
   "cell_type": "markdown",
   "metadata": {},
   "source": [
    "## Creating Your Own MCP Server\n",
    "\n",
    "You can also create your own MCP server to expose custom functionality:"
   ]
  },
  {
   "cell_type": "code",
   "execution_count": null,
   "metadata": {},
   "outputs": [],
   "source": [
    "%%writefile weather_mcp.py\n",
    "from mcp.server.fastmcp import FastMCP\n",
    "\n",
    "# Initialize FastMCP server\n",
    "mcp = FastMCP(\"demo-weather\")\n",
    "\n",
    "@mcp.tool()\n",
    "async def get_weather(city: str) -> str:\n",
    "    \"\"\"Get demo weather for a city (simplified example)\"\"\"\n",
    "    demo_data = {\n",
    "        \"Beijing\": \"Sunny, 25°C\",\n",
    "        \"Shanghai\": \"Cloudy, 23°C\",\n",
    "        \"New York\": \"Rainy, 18°C\"\n",
    "    }\n",
    "    return demo_data.get(city, f\"Weather data not available for {city}\")\n",
    "\n",
    "if __name__ == \"__main__\":\n",
    "    # Run server in stdio mode (simplest for demo)\n",
    "    mcp.run(transport='stdio')"
   ]
  },
  {
   "cell_type": "code",
   "execution_count": null,
   "metadata": {},
   "outputs": [],
   "source": [
    "from mcp import stdio_client, StdioServerParameters\n",
    "from strands import Agent\n",
    "from strands.tools.mcp import MCPClient\n",
    "\n",
    "# Connect to an MCP server using stdio transport\n",
    "stdio_mcp_client = MCPClient(lambda: stdio_client(\n",
    "    StdioServerParameters(command=\"python\", args=[\"weather_mcp.py\"])\n",
    "))\n",
    "\n",
    "# Create an agent with MCP tools\n",
    "with stdio_mcp_client:\n",
    "    # Get the tools from the MCP server\n",
    "    mcp_tools = stdio_mcp_client.list_tools_sync()\n",
    "    \n",
    "    # Create an agent with these tools\n",
    "    weather_mcp_agent = Agent(\n",
    "        model=\"us.amazon.nova-pro-v1:0\",\n",
    "        tools=mcp_tools\n",
    "    )\n",
    "\n",
    "    weather_mcp_agent(\"How's the weather in Beijing?\")"
   ]
  },
  {
   "cell_type": "markdown",
   "metadata": {
    "jp-MarkdownHeadingCollapsed": true
   },
   "source": [
    "## Best Practices for MCP Integration\n",
    "\n",
    "When working with MCP in Strands Agents, consider these best practices:\n",
    "\n",
    "1. **Clear Tool Descriptions**: Provide detailed descriptions so the agent knows when and how to use the tool\n",
    "2. **Graceful Error Handling**: Return informative error messages to help the agent recover\n",
    "3. **Well-defined Schemas**: Use schemas to specify required inputs and expected outputs\n",
    "4. **Focused Tools**: Create specialized tools rather than multi-purpose \"Swiss Army knife\" tools\n",
    "5. **Complementary Design**: Design MCP tools to work well with other tool types\n",
    "\n",
    "## Summary\n",
    "\n",
    "In this chapter, we've explored how to integrate Strands Agents with the Model Context Protocol (MCP). Key takeaways include:\n",
    "\n",
    "1. MCP provides a standardized way for AI models to interact with external tools and resources\n",
    "2. Strands Agents can connect to MCP servers using the `MCPClient` class\n",
    "3. MCP tools can be used alongside built-in and custom tools in Strands Agents\n",
    "4. You can create your own MCP servers to expose custom functionality\n",
    "5. Best practices include clear tool descriptions, robust error handling, and focused tool design\n",
    "\n",
    "In the next chapter, we'll explore deploying Strands Agents to production environments, with a focus on AWS Lambda deployments."
   ]
  },
  {
   "cell_type": "markdown",
   "metadata": {},
   "source": [
    "## Exercises\n",
    "\n",
    "1. Create an MCP server that exposes a tool for translating text between languages\n",
    "2. Create an MCP client that connects to an existing MCP server and uses its tools\n",
    "3. Create an agent that uses a mix of MCP tools, built-in tools, and custom tools\n",
    "4. Explore the MCP protocol specification and identify other transport mechanisms besides stdio\n",
    "5. Design an MCP server that integrates with a database or other backend service"
   ]
  }
 ],
 "metadata": {
  "kernelspec": {
   "display_name": "Python 3 (ipykernel)",
   "language": "python",
   "name": "python3"
  },
  "language_info": {
   "codemirror_mode": {
    "name": "ipython",
    "version": 3
   },
   "file_extension": ".py",
   "mimetype": "text/x-python",
   "name": "python",
   "nbconvert_exporter": "python",
   "pygments_lexer": "ipython3",
   "version": "3.12.10"
  }
 },
 "nbformat": 4,
 "nbformat_minor": 4
}
